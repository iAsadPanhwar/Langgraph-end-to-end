{
 "cells": [
  {
   "cell_type": "code",
   "execution_count": 1,
   "metadata": {},
   "outputs": [],
   "source": [
    "import os\n",
    "from dotenv import load_dotenv\n",
    "load_dotenv()\n",
    "os.environ[\"OPENAI_API_KEY\"]=os.getenv(\"OPENAI_API_KEY\")\n",
    "\n",
    "from langchain_openai import OpenAIEmbeddings, ChatOpenAI\n",
    "\n",
    "embeddings = OpenAIEmbeddings()\n",
    "llm = ChatOpenAI(model=\"gpt-4o-mini\", temperature=0.7)"
   ]
  },
  {
   "cell_type": "code",
   "execution_count": 2,
   "metadata": {},
   "outputs": [],
   "source": [
    "from langchain_core.output_parsers import StrOutputParser\n",
    "from langchain_core.prompts import ChatPromptTemplate\n",
    "from langchain_core.runnables import RunnablePassthrough\n",
    "from langchain_community.document_loaders import TextLoader, DirectoryLoader\n",
    "from langchain_community.vectorstores import Chroma\n",
    "from langchain.text_splitter import RecursiveCharacterTextSplitter\n",
    "from langgraph.graph import Graph"
   ]
  },
  {
   "cell_type": "code",
   "execution_count": 3,
   "metadata": {},
   "outputs": [
    {
     "name": "stderr",
     "output_type": "stream",
     "text": [
      "C:\\Users\\Asad\\AppData\\Local\\Temp\\ipykernel_23156\\43134128.py:16: LangChainDeprecationWarning: The method `BaseRetriever.get_relevant_documents` was deprecated in langchain-core 0.1.46 and will be removed in 1.0. Use :meth:`~invoke` instead.\n",
      "  docs = retriever.get_relevant_documents(query)\n"
     ]
    },
    {
     "name": "stdout",
     "output_type": "stream",
     "text": [
      "{'source': 'data\\\\llama 3.txt'}\n",
      "Today, we’re excited to share the first two models of the next generation of Llama, Meta Llama 3, available for broad use. This release features pretrained and instruction-fine-tuned language models with 8B and 70B parameters that can support a broad range of use cases. This next generation of Llama demonstrates state-of-the-art performance on a wide range of industry benchmarks and offers new capabilities, including improved reasoning. We believe these are the best open source models of their class, period. In support of our longstanding open approach, we’re putting Llama 3 in the hands of\n"
     ]
    }
   ],
   "source": [
    "loader = DirectoryLoader(\"./data\" ,glob=\"./*.txt\", loader_cls=TextLoader)\n",
    "docs = loader.load()\n",
    "\n",
    "text_splitter = RecursiveCharacterTextSplitter(\n",
    "    chunk_size = 600,\n",
    "    chunk_overlap = 50\n",
    ")\n",
    "\n",
    "new_docs = text_splitter.split_documents(documents = docs)\n",
    "doc_strings = [doc.page_content for doc in new_docs]\n",
    "\n",
    "db = Chroma.from_documents(new_docs, embeddings)\n",
    "retriever = db.as_retriever(search_kwargs = {\"k\":3})\n",
    "\n",
    "query = \"what is meta llama3\"\n",
    "docs = retriever.get_relevant_documents(query)\n",
    "print(docs[0].metadata)\n",
    "print(docs[0].page_content)"
   ]
  },
  {
   "cell_type": "code",
   "execution_count": 5,
   "metadata": {},
   "outputs": [
    {
     "name": "stdout",
     "output_type": "stream",
     "text": [
      "{'source': 'data\\\\llama 3.txt'}\n",
      "Today, we’re excited to share the first two models of the next generation of Llama, Meta Llama 3, available for broad use. This release features pretrained and instruction-fine-tuned language models with 8B and 70B parameters that can support a broad range of use cases. This next generation of Llama demonstrates state-of-the-art performance on a wide range of industry benchmarks and offers new capabilities, including improved reasoning. We believe these are the best open source models of their class, period. In support of our longstanding open approach, we’re putting Llama 3 in the hands of\n",
      "page_content='Today, we’re excited to share the first two models of the next generation of Llama, Meta Llama 3, available for broad use. This release features pretrained and instruction-fine-tuned language models with 8B and 70B parameters that can support a broad range of use cases. This next generation of Llama demonstrates state-of-the-art performance on a wide range of industry benchmarks and offers new capabilities, including improved reasoning. We believe these are the best open source models of their class, period. In support of our longstanding open approach, we’re putting Llama 3 in the hands of' metadata={'source': 'data\\\\llama 3.txt'}\n",
      "page_content='Our goals for Llama 3' metadata={'source': 'data\\\\llama 3.txt'}\n",
      "page_content='With Llama 3, we set out to build the best open models that are on par with the best proprietary models available today. We wanted to address developer feedback to increase the overall helpfulness of Llama 3 and are doing so while continuing to play a leading role on responsible use and deployment of LLMs. We are embracing the open source ethos of releasing early and often to enable the community to get access to these models while they are still in development. The text-based models we are releasing today are the first in the Llama 3 collection of models. Our goal in the near future is to' metadata={'source': 'data\\\\llama 3.txt'}\n"
     ]
    }
   ],
   "source": [
    "query = \"what is meta llama3\"\n",
    "docs = retriever.get_relevant_documents(query)\n",
    "print(docs[0].metadata)\n",
    "print(docs[0].page_content)\n",
    "\n",
    "for doc in docs:\n",
    "    print(doc)"
   ]
  },
  {
   "cell_type": "code",
   "execution_count": 6,
   "metadata": {},
   "outputs": [],
   "source": [
    "from typing import TypedDict, Annotated, Sequence\n",
    "import operator\n",
    "from langchain_core.messages import BaseMessage\n",
    "from langchain.prompts import PromptTemplate\n",
    "\n",
    "class AgentState(TypedDict):\n",
    "    messages: Annotated[Sequence[BaseMessage], operator.add]\n"
   ]
  },
  {
   "cell_type": "code",
   "execution_count": 7,
   "metadata": {},
   "outputs": [],
   "source": [
    "from pydantic import BaseModel, Field\n",
    "class TopicSelectorParser(BaseModel):\n",
    "    Topic: str = Field(description=\"Selected Topic\")\n",
    "    Reasoning: str = Field(description=\"Reasoning behind topic selection\")"
   ]
  },
  {
   "cell_type": "code",
   "execution_count": 18,
   "metadata": {},
   "outputs": [],
   "source": [
    "from langchain.output_parsers import PydanticOutputParser\n",
    "parser = PydanticOutputParser(pydantic_object=TopicSelectorParser)"
   ]
  },
  {
   "cell_type": "code",
   "execution_count": 19,
   "metadata": {},
   "outputs": [],
   "source": [
    "def function1(state):\n",
    "    message = state[\"messages\"]\n",
    "    question = message[-1]\n",
    "    print(question)\n",
    "\n",
    "    template = \"\"\"\n",
    "    Your task is to classify the given user query into one of the following categories: [llama, Not Related]\n",
    "    Only respond with the category name and nothing else.\n",
    "\n",
    "    User query: {question}\n",
    "    {format_instruction}\n",
    "    \"\"\"\n",
    "\n",
    "    prompt = PromptTemplate(\n",
    "        template=template,\n",
    "        input_variables=[question],\n",
    "        partial_variables={\n",
    "            \"format_instructions\": parser.get_format_instructions()\n",
    "        }\n",
    "\n",
    "        \n",
    "    )\n",
    "\n",
    "    chain = prompt | llm | parser\n",
    "\n",
    "    response = chain.invoke({\"question\":question, \"format_instruction\":parser.get_format_instructions()})\n",
    "\n",
    "    print(response)\n",
    "\n",
    "    return {\"messages\": [response.Topic]}"
   ]
  },
  {
   "cell_type": "code",
   "execution_count": 20,
   "metadata": {},
   "outputs": [],
   "source": [
    "def route(state):\n",
    "    print(\"-> Router ->\")\n",
    "\n",
    "    messages = state[\"messages\"]\n",
    "    last_message = messages[-1]\n",
    "    print(last_message)\n",
    "\n",
    "    if \"llama\" in last_message:\n",
    "        return \"RAG Call\"\n",
    "    else:\n",
    "        return \"LLM Call\""
   ]
  },
  {
   "cell_type": "code",
   "execution_count": 21,
   "metadata": {},
   "outputs": [],
   "source": [
    "def function2(AgentState):\n",
    "    messages = AgentState[\"messages\"]\n",
    "    question = messages[0]\n",
    "\n",
    "    template = \"\"\"Answer the question based on the following context:\n",
    "    {context}\n",
    "    \n",
    "    question: {question}\"\"\"\n",
    "\n",
    "    prompt = ChatPromptTemplate.from_template(template)\n",
    "\n",
    "    retrieval_chain = (\n",
    "        {\"context\":retriever, \"question\": RunnablePassthrough()}\n",
    "        | prompt\n",
    "        | llm\n",
    "        | StrOutputParser()\n",
    "    )\n",
    "\n",
    "    result = retrieval_chain.invoke(question)\n",
    "\n",
    "    return {\"messages\":[result]}\n"
   ]
  },
  {
   "cell_type": "code",
   "execution_count": 22,
   "metadata": {},
   "outputs": [],
   "source": [
    "def function3(state):\n",
    "    print(\"-> Calling LLM\")\n",
    "\n",
    "    messages = state[\"messages\"]\n",
    "    question = messages[0]\n",
    "\n",
    "    complete_query = \"Answer the following with your knowledge of real world. Here is the question:\" + question\n",
    "\n",
    "    response = llm.invoke(complete_query)\n",
    "\n",
    "    return {\"messages\": [response.content]}\n",
    "\n"
   ]
  },
  {
   "cell_type": "code",
   "execution_count": 23,
   "metadata": {},
   "outputs": [],
   "source": [
    "from langgraph.graph import StateGraph, END\n",
    "\n",
    "workflow = StateGraph(AgentState)\n",
    "workflow.add_node(\"agent\", function1)\n",
    "workflow.add_node(\"RAG\", function2)\n",
    "workflow.add_node(\"LLM\", function3)\n",
    "workflow.set_entry_point(\"agent\")\n",
    "\n",
    "workflow.add_conditional_edges(\n",
    "    \"agent\",\n",
    "    route,\n",
    "    {\n",
    "        \"RAG Call\":\"RAG\",\n",
    "        \"LLM Call\": \"LLM\"\n",
    "    }\n",
    ")\n",
    "workflow.add_edge(\"RAG\", END)\n",
    "workflow.add_edge(\"LLM\", END)\n",
    "app = workflow.compile()"
   ]
  },
  {
   "cell_type": "code",
   "execution_count": 24,
   "metadata": {},
   "outputs": [
    {
     "data": {
      "image/png": "[encoded data removed]",
      "text/plain": [
       "<langgraph.graph.state.CompiledStateGraph object at 0x000001E35E6C77D0>"
      ]
     },
     "execution_count": 24,
     "metadata": {},
     "output_type": "execute_result"
    }
   ],
   "source": [
    "app"
   ]
  },
  {
   "cell_type": "code",
   "execution_count": 27,
   "metadata": {},
   "outputs": [],
   "source": [
    "inputs = {\"messages\":[\"Tell me about World War 2\"]}"
   ]
  },
  {
   "cell_type": "code",
   "execution_count": 28,
   "metadata": {},
   "outputs": [
    {
     "name": "stdout",
     "output_type": "stream",
     "text": [
      "Tell me about World War 2\n",
      "Topic='Not Related' Reasoning='The query is about World War 2, which is unrelated to llamas.'\n",
      "-> Router ->\n",
      "Not Related\n",
      "-> Calling LLM\n"
     ]
    },
    {
     "data": {
      "text/plain": [
       "{'messages': ['Tell me about World War 2',\n",
       "  'Not Related',\n",
       "  \"World War II was a global conflict that lasted from 1939 to 1945, involving most of the world's nations and resulting in significant political, social, and economic changes. It was the deadliest conflict in human history, leading to an estimated 70 to 85 million fatalities.\\n\\n### Major Causes:\\n1. **Treaty of Versailles**: The harsh penalties imposed on Germany after World War I created resentment and economic hardship, contributing to the rise of Adolf Hitler and the Nazi Party.\\n2. **Expansionist Policies**: Aggressive territorial expansion by Germany, Italy, and Japan violated international agreements and heightened tensions in Europe and Asia.\\n3. **Failure of Diplomacy**: The League of Nations failed to effectively address aggression by Axis powers, leading to a breakdown in international order.\\n\\n### Key Events:\\n1. **Invasion of Poland**: The war began on September 1, 1939, when Germany invaded Poland. Britain and France declared war on Germany shortly after.\\n2. **Fall of France**: In 1940, Germany launched a rapid invasion of France, leading to its occupation.\\n3. **Battle of Britain**: The Royal Air Force defended the UK against the German Luftwaffe in a significant air campaign in 1940.\\n4. **Operation Barbarossa**: In 1941, Germany invaded the Soviet Union, leading to some of the largest and deadliest battles in history.\\n5. **Pearl Harbor**: On December 7, 1941, Japan attacked the U.S. naval base at Pearl Harbor, prompting the United States to enter the war.\\n6. **D-Day**: On June 6, 1944, Allied forces launched a massive invasion of German-occupied France, marking a turning point in the war.\\n7. **Atomic Bombs**: The U.S. dropped atomic bombs on the Japanese cities of Hiroshima and Nagasaki in August 1945, leading to Japan's surrender.\\n\\n### Outcomes:\\n1. **Casualties**: The war caused immense loss of life and suffering, with millions of military and civilian deaths, including the Holocaust, where six million Jews were systematically murdered.\\n2. **Geopolitical Changes**: The post-war period saw the emergence of the United States and the Soviet Union as superpowers, leading to the Cold War.\\n3. **Creation of the United Nations**: Established in 1945 to promote international cooperation and prevent future conflicts.\\n4. **Decolonization**: The war accelerated the decline of colonial empires and spurred movements for independence in Asia, Africa, and the Caribbean.\\n\\nWorld War II had profound and lasting impacts on global history, shaping the modern world in numerous ways, including international relations, military strategy, and the global economy.\"]}"
      ]
     },
     "execution_count": 28,
     "metadata": {},
     "output_type": "execute_result"
    }
   ],
   "source": [
    "app.invoke(inputs)"
   ]
  },
  {
   "cell_type": "code",
   "execution_count": null,
   "metadata": {},
   "outputs": [],
   "source": []
  }
 ],
 "metadata": {
  "kernelspec": {
   "display_name": "graph",
   "language": "python",
   "name": "python3"
  },
  "language_info": {
   "codemirror_mode": {
    "name": "ipython",
    "version": 3
   },
   "file_extension": ".py",
   "mimetype": "text/x-python",
   "name": "python",
   "nbconvert_exporter": "python",
   "pygments_lexer": "ipython3",
   "version": "3.11.11"
  }
 },
 "nbformat": 4,
 "nbformat_minor": 2
}
