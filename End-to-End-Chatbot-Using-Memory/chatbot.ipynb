{
 "cells": [
  {
   "cell_type": "code",
   "execution_count": 3,
   "metadata": {},
   "outputs": [],
   "source": [
    "from dotenv import load_dotenv\n",
    "import os\n",
    "from langchain_openai import ChatOpenAI\n",
    "\n",
    "\n",
    "load_dotenv()\n",
    "\n",
    "os.environ[\"OPENAI_API_KEY\"] = os.getenv(\"OPENAI_API_KEY\")\n",
    "\n",
    "llm = ChatOpenAI(model=\"gpt-4o-mini\", temperature=0.7)"
   ]
  },
  {
   "cell_type": "code",
   "execution_count": 5,
   "metadata": {},
   "outputs": [],
   "source": [
    "from langgraph.graph import StateGraph, MessagesState, START, END\n",
    "from langgraph.graph.message import add_messages\n",
    "from typing import Annotated, TypedDict, Literal\n",
    "from langchain_core.tools import tool\n",
    "from langchain_core.messages import HumanMessage\n",
    "from langgraph.checkpoint.memory import MemorySaver\n",
    "from langgraph.prebuilt import ToolNode"
   ]
  },
  {
   "cell_type": "code",
   "execution_count": 7,
   "metadata": {},
   "outputs": [],
   "source": [
    "def call_model(state: MessagesState):\n",
    "    messages = state[\"messages\"]\n",
    "    response = llm.invoke(messages)\n",
    "    return {\"messages\":[response]}"
   ]
  },
  {
   "cell_type": "code",
   "execution_count": 8,
   "metadata": {},
   "outputs": [],
   "source": [
    "workflow = StateGraph(MessagesState)\n",
    "workflow.add_node(\"chatbot\",call_model)\n",
    "workflow.add_edge(START, \"chatbot\")\n",
    "workflow.add_edge(\"chatbot\", END)\n",
    "app=workflow.compile()"
   ]
  },
  {
   "cell_type": "code",
   "execution_count": 11,
   "metadata": {},
   "outputs": [],
   "source": [
    "input = {\"messages\":[\"what is machine Learning\"]}"
   ]
  },
  {
   "cell_type": "code",
   "execution_count": 12,
   "metadata": {},
   "outputs": [
    {
     "data": {
      "text/plain": [
       "{'messages': [HumanMessage(content='what is machine Learning', additional_kwargs={}, response_metadata={}, id='61538ba4-8c5d-41da-b74a-a8282b6437f4'),\n",
       "  AIMessage(content='Machine learning is a subset of artificial intelligence (AI) that focuses on the development of algorithms and statistical models that enable computers to perform tasks without explicit instructions. Instead of being programmed to perform a specific task, machine learning algorithms learn from data, identify patterns, and make decisions based on the information they have processed.\\n\\nKey components of machine learning include:\\n\\n1. **Data**: Machine learning relies on large datasets to train models. The data can be structured (like tables) or unstructured (like images or text).\\n\\n2. **Algorithms**: Various algorithms are used to analyze the data and learn from it. Common types include:\\n   - **Supervised Learning**: The model is trained on labeled data, meaning the input data is paired with the correct output. Examples include classification and regression tasks.\\n   - **Unsupervised Learning**: The model is trained on unlabeled data, and it tries to find patterns or groupings in the data. Examples include clustering and dimensionality reduction.\\n   - **Semi-Supervised Learning**: Combines both labeled and unlabeled data for training.\\n   - **Reinforcement Learning**: The model learns by interacting with an environment and receiving feedback in the form of rewards or penalties.\\n\\n3. **Training and Testing**: The process involves splitting data into training and testing sets. The model learns from the training set and is evaluated on the testing set to assess its performance.\\n\\n4. **Applications**: Machine learning is applied in various fields, including natural language processing (NLP), image recognition, recommendation systems, fraud detection, autonomous vehicles, and many more.\\n\\nOverall, machine learning enables systems to improve their performance over time as they are exposed to more data, making it a powerful tool for solving complex problems and automating tasks in various domains.', additional_kwargs={'refusal': None}, response_metadata={'token_usage': {'completion_tokens': 362, 'prompt_tokens': 11, 'total_tokens': 373, 'completion_tokens_details': {'accepted_prediction_tokens': 0, 'audio_tokens': 0, 'reasoning_tokens': 0, 'rejected_prediction_tokens': 0}, 'prompt_tokens_details': {'audio_tokens': 0, 'cached_tokens': 0}}, 'model_name': 'gpt-4o-mini-2024-07-18', 'system_fingerprint': 'fp_bd83329f63', 'finish_reason': 'stop', 'logprobs': None}, id='run-50fadd31-e6d0-4917-ac60-a97eb8abb3f4-0', usage_metadata={'input_tokens': 11, 'output_tokens': 362, 'total_tokens': 373, 'input_token_details': {'audio': 0, 'cache_read': 0}, 'output_token_details': {'audio': 0, 'reasoning': 0}})]}"
      ]
     },
     "execution_count": 12,
     "metadata": {},
     "output_type": "execute_result"
    }
   ],
   "source": [
    "app.invoke(input)"
   ]
  },
  {
   "cell_type": "code",
   "execution_count": 13,
   "metadata": {},
   "outputs": [
    {
     "name": "stdout",
     "output_type": "stream",
     "text": [
      "Output from chatbot Node\n",
      "==========\n",
      "{'messages': [AIMessage(content='Machine learning is a subset of artificial intelligence (AI) that focuses on the development of algorithms and statistical models that enable computers to perform tasks without explicit programming. Instead of being programmed with specific instructions for each task, machine learning systems learn from data, identifying patterns and making decisions based on that data.\\n\\nHere are some key concepts in machine learning:\\n\\n1. **Data**: Machine learning relies on large volumes of data to train models. This data can be structured (like tables of numbers) or unstructured (like text, images, or audio).\\n\\n2. **Algorithms**: These are the mathematical methods or processes used to analyze the data and make predictions or decisions. Common algorithms include decision trees, neural networks, support vector machines, and k-nearest neighbors.\\n\\n3. **Training**: This is the process of feeding data into a machine learning model so it can learn patterns. The model adjusts its parameters based on the input data and the corresponding output.\\n\\n4. **Testing**: After training, the model is evaluated using a separate dataset (the test set) to assess its accuracy and performance.\\n\\n5. **Supervised Learning**: In this type of learning, the model is trained on a labeled dataset, meaning that the input data is paired with the correct output. The goal is to learn a mapping from inputs to outputs.\\n\\n6. **Unsupervised Learning**: Here, the model is trained on data without explicit labels. It tries to find structure or patterns in the data, such as clustering similar items together.\\n\\n7. **Reinforcement Learning**: This is a type of learning where an agent learns to make decisions by taking actions in an environment to maximize a reward signal.\\n\\n8. **Applications**: Machine learning is used in a wide range of applications, including image and speech recognition, natural language processing, recommendation systems, autonomous vehicles, and predictive analytics.\\n\\nOverall, machine learning is a powerful tool that enables computers to improve their performance on tasks over time as they are exposed to more data.', additional_kwargs={'refusal': None}, response_metadata={'token_usage': {'completion_tokens': 405, 'prompt_tokens': 11, 'total_tokens': 416, 'completion_tokens_details': {'accepted_prediction_tokens': 0, 'audio_tokens': 0, 'reasoning_tokens': 0, 'rejected_prediction_tokens': 0}, 'prompt_tokens_details': {'audio_tokens': 0, 'cached_tokens': 0}}, 'model_name': 'gpt-4o-mini-2024-07-18', 'system_fingerprint': 'fp_72ed7ab54c', 'finish_reason': 'stop', 'logprobs': None}, id='run-8286be41-234a-48bd-a7ee-19e37177c954-0', usage_metadata={'input_tokens': 11, 'output_tokens': 405, 'total_tokens': 416, 'input_token_details': {'audio': 0, 'cache_read': 0}, 'output_token_details': {'audio': 0, 'reasoning': 0}})]}\n",
      "\n",
      "\n"
     ]
    }
   ],
   "source": [
    "for output in app.stream(input):\n",
    "    for key,value in output.items():\n",
    "        print(f\"Output from {key} Node\")\n",
    "        print(\"==========\")\n",
    "        print(value)\n",
    "        print(\"\\n\")"
   ]
  },
  {
   "cell_type": "code",
   "execution_count": null,
   "metadata": {},
   "outputs": [],
   "source": []
  }
 ],
 "metadata": {
  "kernelspec": {
   "display_name": "graph",
   "language": "python",
   "name": "python3"
  },
  "language_info": {
   "codemirror_mode": {
    "name": "ipython",
    "version": 3
   },
   "file_extension": ".py",
   "mimetype": "text/x-python",
   "name": "python",
   "nbconvert_exporter": "python",
   "pygments_lexer": "ipython3",
   "version": "3.11.11"
  }
 },
 "nbformat": 4,
 "nbformat_minor": 2
}
